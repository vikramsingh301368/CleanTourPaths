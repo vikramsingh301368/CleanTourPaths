{
 "cells": [
  {
   "cell_type": "markdown",
   "id": "8d42e084",
   "metadata": {},
   "source": [
    "Libraries"
   ]
  },
  {
   "cell_type": "code",
   "execution_count": 1,
   "id": "d36c962a",
   "metadata": {},
   "outputs": [],
   "source": [
    "import math\n",
    "import itertools\n",
    "import numpy as np\n",
    "import pandas as pd\n",
    "import torch\n",
    "import torch.nn as nn\n",
    "import torch.optim as optim\n",
    "from sklearn.preprocessing import StandardScaler\n",
    "import matplotlib.pyplot as plt\n",
    "from haversine import haversine, Unit\n",
    "import networkx as nx\n",
    "\n",
    "from torch_geometric.data import Data\n",
    "from torch_geometric.nn import GCNConv\n",
    "from torch.utils.data import DataLoader as TorchLoader "
   ]
  },
  {
   "cell_type": "code",
   "execution_count": 2,
   "id": "8876527f",
   "metadata": {},
   "outputs": [
    {
     "name": "stdout",
     "output_type": "stream",
     "text": [
      "Using device: cpu\n"
     ]
    }
   ],
   "source": [
    "torch.backends.cudnn.enabled = False\n",
    "device = torch.device('cpu')\n",
    "print(\"Using device:\", device)"
   ]
  },
  {
   "cell_type": "code",
   "execution_count": 3,
   "id": "cef03ab5",
   "metadata": {},
   "outputs": [],
   "source": [
    "original_data = pd.read_csv('2.csv')\n",
    "original_data.rename(columns={'last': 'DateTime'}, inplace=True)\n",
    "original_data['DateTime'] = pd.to_datetime(original_data['DateTime'])\n",
    "original_data['cell_id'] = original_data.groupby(['devicelat','devicelon']).ngroup() + 1\n",
    "desired_range = pd.date_range(start='2025-03-28', end='2025-07-29', freq='1H')\n",
    "final_data = pd.DataFrame()\n",
    "for cid, dfc in original_data.groupby('cell_id'):\n",
    "    temp = pd.DataFrame(index=desired_range)\n",
    "    temp['devicelon'] = dfc['devicelon'].iloc[0]\n",
    "    temp['devicelat'] = dfc['devicelat'].iloc[0]\n",
    "    grouped = (dfc.set_index('DateTime')\n",
    "                 .groupby(pd.Grouper(freq='1H'))\n",
    "                 .mean(numeric_only=True))\n",
    "    temp[['pm25','pm10','Hum','Temp(cel)']] = grouped[['pm25','pm10','Hum','Temp(cel)']]\n",
    "    temp['cell_id'] = cid\n",
    "    final_data = pd.concat([final_data, temp])\n",
    "final_data.index.name = 'DateTime'\n",
    "final_data = final_data.sort_index()\n"
   ]
  },
  {
   "cell_type": "code",
   "execution_count": 4,
   "id": "9b15ec9f",
   "metadata": {},
   "outputs": [
    {
     "name": "stdout",
     "output_type": "stream",
     "text": [
      "Rows: 17718 Unique cells: 6\n",
      "Date range: 2025-03-28 00:00:00 → 2025-07-29 00:00:00\n"
     ]
    }
   ],
   "source": [
    "# --- Sanity checks / alignment ---\n",
    "assert 'final_data' in globals(), \"final_data must exist (see optional builder above).\"\n",
    "assert isinstance(final_data.index, pd.DatetimeIndex), \"final_data must have a DatetimeIndex\"\n",
    "final_data.index = final_data.index.floor('H')  # ensure exact hourly stamps\n",
    "print(\"Rows:\", len(final_data), \"Unique cells:\", final_data['cell_id'].nunique())\n",
    "print(\"Date range:\", final_data.index.min(), \"→\", final_data.index.max())"
   ]
  },
  {
   "cell_type": "markdown",
   "id": "dd8bdbd2",
   "metadata": {},
   "source": [
    "Graph creation"
   ]
  },
  {
   "cell_type": "code",
   "execution_count": 26,
   "id": "3eed2adf",
   "metadata": {},
   "outputs": [
    {
     "name": "stdout",
     "output_type": "stream",
     "text": [
      "Graphs with nodes: 2953\n",
      "Graphs with ≥1 edge: 2953\n"
     ]
    }
   ],
   "source": [
    "def create_graph_for_hour(df_hour, radius_km=1.0):\n",
    "    g = nx.Graph()\n",
    "    if df_hour is None or df_hour.empty:\n",
    "        return g\n",
    "    # Add nodes\n",
    "    for _, r in df_hour.iterrows():\n",
    "        cid = int(r['cell_id'])\n",
    "        g.add_node(cid,\n",
    "                   devicelon=float(r['devicelon']),\n",
    "                   devicelat=float(r['devicelat']),\n",
    "                   pm25=float(r['pm25']) if pd.notna(r['pm25']) else np.nan,\n",
    "                   Hum=float(r['Hum']) if pd.notna(r['Hum']) else np.nan,\n",
    "                   **{'Temp(cel)': float(r['Temp(cel)']) if pd.notna(r['Temp(cel)']) else np.nan})\n",
    "    node_ids = list(g.nodes())\n",
    "    for a, b in itertools.combinations(node_ids, 2):\n",
    "        la, loa = g.nodes[a]['devicelat'], g.nodes[a]['devicelon']\n",
    "        lb, lob = g.nodes[b]['devicelat'], g.nodes[b]['devicelon']\n",
    "        if not (math.isnan(la) or math.isnan(loa) or math.isnan(lb) or math.isnan(lob)):\n",
    "            d = haversine((la, loa), (lb, lob), unit=Unit.KILOMETERS)\n",
    "            if d <= radius_km:\n",
    "                g.add_edge(a, b, weight=d)\n",
    "    return g\n",
    "\n",
    "t_min, t_max = final_data.index.min(), final_data.index.max()\n",
    "timestamps = pd.date_range(t_min, t_max, freq='H')\n",
    "\n",
    "hour_buckets = dict(tuple(final_data.groupby(level=0)))\n",
    "\n",
    "graphs_sequence = {}\n",
    "for ts in timestamps:\n",
    "    df_hour = hour_buckets.get(ts, None)\n",
    "    graphs_sequence[ts] = create_graph_for_hour(df_hour, radius_km=1.0)\n",
    "\n",
    "graphs_sequence = {ts: g for ts, g in graphs_sequence.items() if g.number_of_nodes() > 0}\n",
    "print(\"Graphs with nodes:\", len(graphs_sequence))\n",
    "print(\"Graphs with ≥1 edge:\", sum(g.number_of_edges()>0 for g in graphs_sequence.values()))"
   ]
  },
  {
   "cell_type": "markdown",
   "id": "315f6b52",
   "metadata": {},
   "source": [
    "feature matrix"
   ]
  },
  {
   "cell_type": "code",
   "execution_count": 27,
   "id": "af45c2db",
   "metadata": {},
   "outputs": [
    {
     "name": "stdout",
     "output_type": "stream",
     "text": [
      "Static node set size: 6 Nodes: [1, 2, 3, 4, 5, 6]\n"
     ]
    },
    {
     "name": "stderr",
     "output_type": "stream",
     "text": [
      "C:\\Users\\Admin\\AppData\\Local\\Temp\\ipykernel_5696\\754357542.py:16: RuntimeWarning: Mean of empty slice\n",
      "  col_means = np.nanmean(X, axis=0)\n"
     ]
    }
   ],
   "source": [
    "FEATURES = ['pm25', 'Hum', 'Temp(cel)']\n",
    "FEATURES_READABLE = ['PM2.5', 'Humidity', 'Temperature']  # for plotting labels\n",
    "\n",
    "# Static node set/order:\n",
    "all_nodes = sorted(list(set().union(*[set(g.nodes()) for g in graphs_sequence.values()])))\n",
    "N_NODES = len(all_nodes)\n",
    "print(\"Static node set size:\", N_NODES, \"Nodes:\", all_nodes)\n",
    "\n",
    "def nx_to_feature_matrix(g, node_order):\n",
    "    \"\"\"Return X [N, F] following node_order; mean-impute NaNs per column.\"\"\"\n",
    "    X = np.empty((len(node_order), len(FEATURES)), dtype=float)\n",
    "    for i, n in enumerate(node_order):\n",
    "        feats = [g.nodes[n].get(f, np.nan) if n in g.nodes else np.nan for f in FEATURES]\n",
    "        X[i, :] = feats\n",
    "    # mean-impute per column\n",
    "    col_means = np.nanmean(X, axis=0)\n",
    "    inds = np.where(np.isnan(X))\n",
    "    X[inds] = np.take(col_means, inds[1])\n",
    "    return X\n",
    "\n",
    "X_raw_by_ts = {ts: nx_to_feature_matrix(g, all_nodes) for ts, g in graphs_sequence.items()}"
   ]
  },
  {
   "cell_type": "markdown",
   "id": "27373353",
   "metadata": {},
   "source": [
    "data split and scaling for normalization"
   ]
  },
  {
   "cell_type": "code",
   "execution_count": 28,
   "id": "5d877e72",
   "metadata": {},
   "outputs": [],
   "source": [
    "ts_sorted = sorted(X_raw_by_ts.keys())\n",
    "split_train = int(len(ts_sorted) * 0.7)\n",
    "split_val   = int(len(ts_sorted) * 0.85)\n",
    "\n",
    "train_ts = ts_sorted[:split_train]\n",
    "val_ts   = ts_sorted[split_train:split_val]\n",
    "test_ts  = ts_sorted[split_val:]\n",
    "\n",
    "train_stack = np.stack([X_raw_by_ts[t] for t in train_ts], axis=0)   # [T, N, F]\n",
    "train_2d = train_stack.reshape(-1, len(FEATURES))\n",
    "global_scaler = StandardScaler().fit(train_2d)\n",
    "\n",
    "# Scale all sets\n",
    "def scale_dict(X_dict, scaler):\n",
    "    return {ts: scaler.transform(X) for ts, X in X_dict.items()}\n",
    "\n",
    "X_scaled_by_ts = scale_dict(X_raw_by_ts, global_scaler)"
   ]
  },
  {
   "cell_type": "markdown",
   "id": "d2dd97f5",
   "metadata": {},
   "source": [
    "Data sequence"
   ]
  },
  {
   "cell_type": "code",
   "execution_count": 29,
   "id": "ac2cb68e",
   "metadata": {},
   "outputs": [
    {
     "name": "stdout",
     "output_type": "stream",
     "text": [
      "Sequences — Train/Val/Test: 2043 419 419\n"
     ]
    }
   ],
   "source": [
    "def build_pyg_from_X(ts, Xs, g, node_order):\n",
    "    x = torch.tensor(Xs, dtype=torch.float)\n",
    "    idx = {n: i for i, n in enumerate(node_order)}\n",
    "    edges = [[idx[u], idx[v]] for u, v in g.edges() if u in idx and v in idx]\n",
    "    edge_index = torch.tensor(edges, dtype=torch.long).t().contiguous() if edges else torch.empty((2,0), dtype=torch.long)\n",
    "    return Data(x=x, edge_index=edge_index)\n",
    "\n",
    "graphs_pyg = {ts: build_pyg_from_X(ts, X_scaled_by_ts[ts], graphs_sequence[ts], all_nodes) for ts in ts_sorted}\n",
    "\n",
    "SEQ_LEN = 24  # hours per input sequence\n",
    "\n",
    "def create_sequences(graphs_pyg_dict, ts_list, sequence_length):\n",
    "    seqs, targs = [], []\n",
    "    for i in range(len(ts_list) - sequence_length):\n",
    "        window = ts_list[i:i+sequence_length]\n",
    "        tgt_ts = ts_list[i+sequence_length]\n",
    "        seq = [graphs_pyg_dict[t] for t in window]   # list[Data], length T\n",
    "        target = graphs_pyg_dict[tgt_ts].x           # [N, F]\n",
    "        seqs.append(seq)\n",
    "        targs.append(target)\n",
    "    return seqs, targs\n",
    "\n",
    "train_seq, train_targ = create_sequences(graphs_pyg, train_ts, SEQ_LEN)\n",
    "val_seq,   val_targ   = create_sequences(graphs_pyg, val_ts,   SEQ_LEN)\n",
    "test_seq,  test_targ  = create_sequences(graphs_pyg, test_ts,  SEQ_LEN)\n",
    "print(\"Sequences — Train/Val/Test:\", len(train_seq), len(val_seq), len(test_seq))\n",
    "\n",
    "class GraphSequenceDataset(torch.utils.data.Dataset):\n",
    "    def __init__(self, sequences, targets):\n",
    "        self.sequences = sequences\n",
    "        self.targets = targets\n",
    "    def __len__(self):\n",
    "        return len(self.sequences)\n",
    "    def __getitem__(self, idx):\n",
    "        return self.sequences[idx], self.targets[idx]\n",
    "\n",
    "train_dataset = GraphSequenceDataset(train_seq, train_targ)\n",
    "val_dataset   = GraphSequenceDataset(val_seq,   val_targ)\n",
    "test_dataset  = GraphSequenceDataset(test_seq,  test_targ)\n",
    "\n",
    "def collate_graph_seq(batch):\n",
    "    (seqs, targs) = batch[0]\n",
    "    return seqs, targs\n",
    "\n",
    "train_loader = TorchLoader(train_dataset, batch_size=1, shuffle=True,  collate_fn=collate_graph_seq)\n",
    "val_loader   = TorchLoader(val_dataset,   batch_size=1, shuffle=False, collate_fn=collate_graph_seq)\n",
    "test_loader  = TorchLoader(test_dataset,  batch_size=1, shuffle=False, collate_fn=collate_graph_seq)\n"
   ]
  },
  {
   "cell_type": "markdown",
   "id": "4f9b8bf7",
   "metadata": {},
   "source": [
    "STGNN"
   ]
  },
  {
   "cell_type": "code",
   "execution_count": 30,
   "id": "36a1d728",
   "metadata": {},
   "outputs": [
    {
     "name": "stdout",
     "output_type": "stream",
     "text": [
      "Epoch 1/10 | Train: nan | Val: nan\n",
      "Epoch 2/10 | Train: nan | Val: nan\n",
      "Epoch 3/10 | Train: nan | Val: nan\n",
      "Epoch 4/10 | Train: nan | Val: nan\n",
      "Epoch 5/10 | Train: nan | Val: nan\n",
      "Epoch 6/10 | Train: nan | Val: nan\n",
      "Early stopping.\n"
     ]
    }
   ],
   "source": [
    "input_size  = len(FEATURES)   \n",
    "hidden_size = 64\n",
    "num_layers  = 2\n",
    "output_size = len(FEATURES)  \n",
    "\n",
    "class STGNN(nn.Module):\n",
    "    def __init__(self, input_size, hidden_size, num_layers, output_size):\n",
    "        super().__init__()\n",
    "        self.convs = nn.ModuleList([\n",
    "            GCNConv(input_size if i == 0 else hidden_size, hidden_size)\n",
    "            for i in range(num_layers)\n",
    "        ])\n",
    "        self.lstm = nn.LSTM(hidden_size, hidden_size, num_layers, batch_first=True)\n",
    "        self.fc = nn.Linear(hidden_size, output_size)\n",
    "        self.relu = nn.ReLU()\n",
    "\n",
    "    def forward(self, sequences):\n",
    "        node_feats_seq = []\n",
    "        for g in sequences:\n",
    "            x, edge_index = g.x, g.edge_index  # x: [N, F]\n",
    "            if x.numel() == 0:\n",
    "                continue\n",
    "            for conv in self.convs:\n",
    "                x = self.relu(conv(x, edge_index))  # [N, H]\n",
    "            node_feats_seq.append(x)\n",
    "\n",
    "        # [T, N, H] -> [N, T, H]\n",
    "        X = torch.stack(node_feats_seq, dim=0).permute(1, 0, 2)\n",
    "        lstm_out, _ = self.lstm(X)               # [N, T, H]\n",
    "        last_hidden = lstm_out[:, -1, :]         # [N, H]\n",
    "        out = self.fc(last_hidden)               # [N, F]\n",
    "        return out\n",
    "\n",
    "model = STGNN(input_size, hidden_size, num_layers, output_size).to(device)\n",
    "\n",
    "criterion = nn.MSELoss()\n",
    "optimizer = optim.Adam(model.parameters(), lr=1e-3)\n",
    "scheduler = optim.lr_scheduler.ReduceLROnPlateau(optimizer, 'min', patience=3, factor=0.5)\n",
    "\n",
    "EPOCHS = 10\n",
    "best_val = float('inf'); patience = 6; stalled = 0\n",
    "train_losses, val_losses = [], []\n",
    "\n",
    "for epoch in range(1, EPOCHS+1):\n",
    "    model.train()\n",
    "    tr = 0.0\n",
    "    for sequences, targets in train_loader:        # sequences: list[Data], targets: [N,3]\n",
    "        sequences = [g.to(device) for g in sequences]\n",
    "        targets   = targets.to(device)\n",
    "\n",
    "        optimizer.zero_grad()\n",
    "        outputs = model(sequences)                 # [N,3]\n",
    "        loss = criterion(outputs, targets)\n",
    "        loss.backward()\n",
    "        optimizer.step()\n",
    "        tr += loss.item()\n",
    "    tr /= max(1, len(train_loader))\n",
    "\n",
    "    model.eval()\n",
    "    va = 0.0\n",
    "    with torch.no_grad():\n",
    "        for sequences, targets in val_loader:\n",
    "            sequences = [g.to(device) for g in sequences]\n",
    "            targets   = targets.to(device)\n",
    "            outputs   = model(sequences)\n",
    "            loss      = criterion(outputs, targets)\n",
    "            va += loss.item()\n",
    "    va /= max(1, len(val_loader))\n",
    "\n",
    "    print(f\"Epoch {epoch}/{EPOCHS} | Train: {tr:.6f} | Val: {va:.6f}\")\n",
    "    scheduler.step(va)\n",
    "    train_losses.append(tr); val_losses.append(va)\n",
    "\n",
    "    if va < best_val:\n",
    "        best_val = va; stalled = 0\n",
    "        torch.save(model.state_dict(), \"best_model.pth\")\n",
    "    else:\n",
    "        stalled += 1\n",
    "        if stalled >= patience:\n",
    "            print(\"Early stopping.\"); break"
   ]
  },
  {
   "cell_type": "markdown",
   "id": "c69cb7e6",
   "metadata": {},
   "source": [
    "Model evaluation"
   ]
  },
  {
   "cell_type": "code",
   "execution_count": 31,
   "id": "e141c1c9",
   "metadata": {},
   "outputs": [
    {
     "name": "stdout",
     "output_type": "stream",
     "text": [
      "Standardized shapes: (419, 6, 3) (419, 6, 3)\n"
     ]
    }
   ],
   "source": [
    "model.load_state_dict(torch.load(\"best_model.pth\", map_location=device))\n",
    "model.eval()\n",
    "\n",
    "test_preds, test_trues = [], []\n",
    "with torch.no_grad():\n",
    "    for sequences, targets in test_loader:\n",
    "        sequences = [g.to(device) for g in sequences]\n",
    "        targets   = targets.to(device)     # [N,3]\n",
    "        outputs   = model(sequences)       # [N,3]\n",
    "        test_preds.append(outputs.cpu().numpy())\n",
    "        test_trues.append(targets.cpu().numpy())\n",
    "\n",
    "preds = np.stack(test_preds, axis=0)\n",
    "trues = np.stack(test_trues, axis=0)\n",
    "print(\"Standardized shapes:\", preds.shape, trues.shape)"
   ]
  },
  {
   "cell_type": "markdown",
   "id": "c6a77f1d",
   "metadata": {},
   "source": [
    "Plotting actual vs predicted PM2.5"
   ]
  },
  {
   "cell_type": "code",
   "execution_count": 35,
   "id": "82d70d17",
   "metadata": {},
   "outputs": [
    {
     "name": "stdout",
     "output_type": "stream",
     "text": [
      "Denorm shapes: (419, 6, 3) (419, 6, 3)\n"
     ]
    },
    {
     "data": {
      "image/png": "[encoded data removed]",
      "text/plain": [
       "<Figure size 864x432 with 1 Axes>"
      ]
     },
     "metadata": {
      "needs_background": "light"
     },
     "output_type": "display_data"
    }
   ],
   "source": [
    "T, N, F = preds.shape\n",
    "preds_2d = preds.reshape(-1, F)\n",
    "trues_2d = trues.reshape(-1, F)\n",
    "denorm_preds = global_scaler.inverse_transform(preds_2d).reshape(T, N, F)\n",
    "denorm_trues = global_scaler.inverse_transform(trues_2d).reshape(T, N, F)\n",
    "print(\"Denorm shapes:\", denorm_preds.shape, denorm_trues.shape)\n",
    "\n",
    "node_index = 0               # <-- choose the node (0..N-1); or: node_index = all_nodes.index(cell_id)\n",
    "feature = 'PM2.5'             # 'PM2.5' | 'Humidity' | 'Temperature'\n",
    "f_idx = FEATURES_READABLE.index(feature)\n",
    "\n",
    "plt.figure(figsize=(12, 6))\n",
    "plt.plot(denorm_trues[:, node_index, f_idx], label='Actual')\n",
    "plt.plot(denorm_preds[:, node_index, f_idx], label='Prediction')\n",
    "plt.xlabel('Time steps')\n",
    "plt.ylabel(feature)\n",
    "plt.title(f'Predictions vs Actuals — Node {node_index}, Feature: {feature}')\n",
    "plt.legend()\n",
    "plt.tight_layout()\n",
    "plt.show()"
   ]
  },
  {
   "cell_type": "code",
   "execution_count": 33,
   "id": "556672ba",
   "metadata": {},
   "outputs": [],
   "source": [
    "torch.save(model.state_dict(), \"final_model_state.pth\")\n"
   ]
  },
  {
   "cell_type": "code",
   "execution_count": null,
   "id": "598181a9",
   "metadata": {},
   "outputs": [],
   "source": []
  }
 ],
 "metadata": {
  "kernelspec": {
   "display_name": "Python 3",
   "language": "python",
   "name": "python3"
  },
  "language_info": {
   "codemirror_mode": {
    "name": "ipython",
    "version": 3
   },
   "file_extension": ".py",
   "mimetype": "text/x-python",
   "name": "python",
   "nbconvert_exporter": "python",
   "pygments_lexer": "ipython3",
   "version": "3.9.12"
  }
 },
 "nbformat": 4,
 "nbformat_minor": 5
}
